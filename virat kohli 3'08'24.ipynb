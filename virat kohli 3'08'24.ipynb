{
 "cells": [
  {
   "cell_type": "code",
   "execution_count": 13,
   "id": "8e05fd7f-4f03-4c6e-a76b-d7a10ba69176",
   "metadata": {},
   "outputs": [
    {
     "name": "stdout",
     "output_type": "stream",
     "text": [
      "['virat', 'kohli', 'batsmen', 3, 13849, 58.59, 'champion2011']\n"
     ]
    }
   ],
   "source": [
    "virat_kohli=['virat','kohli','batsmen',3,13849,58.59,'champion2011']\n",
    "print(virat_kohli)\n"
   ]
  },
  {
   "cell_type": "code",
   "execution_count": 15,
   "id": "0b1edef3-cd94-4daf-9651-2d375b18f97c",
   "metadata": {},
   "outputs": [
    {
     "data": {
      "text/plain": [
       "['virat', 'kohli', 'batsmen', 3, 13849, 58.59, 'champion2011']"
      ]
     },
     "execution_count": 15,
     "metadata": {},
     "output_type": "execute_result"
    }
   ],
   "source": [
    "virat_kohli"
   ]
  },
  {
   "cell_type": "code",
   "execution_count": 17,
   "id": "c4c30055-3d4a-415f-b4eb-310d8d01921d",
   "metadata": {},
   "outputs": [
    {
     "name": "stdout",
     "output_type": "stream",
     "text": [
      "13849\n",
      "58.59\n",
      "champion2011\n"
     ]
    }
   ],
   "source": [
    "print(virat_kohli[4])\n",
    "print(virat_kohli[5])\n",
    "print(virat_kohli[6])"
   ]
  },
  {
   "cell_type": "code",
   "execution_count": 21,
   "id": "2478ee8a-9517-4428-8ef7-fa8bcae16479",
   "metadata": {},
   "outputs": [
    {
     "data": {
      "text/plain": [
       "['virat', 'kohli']"
      ]
     },
     "execution_count": 21,
     "metadata": {},
     "output_type": "execute_result"
    }
   ],
   "source": [
    "virat_kohli[:2]"
   ]
  },
  {
   "cell_type": "code",
   "execution_count": 23,
   "id": "87619517-91dc-4d13-b227-26c1c7391d5c",
   "metadata": {},
   "outputs": [
    {
     "data": {
      "text/plain": [
       "['virat', 'kohli', 'batsmen']"
      ]
     },
     "execution_count": 23,
     "metadata": {},
     "output_type": "execute_result"
    }
   ],
   "source": [
    "virat_kohli[:3]"
   ]
  },
  {
   "cell_type": "code",
   "execution_count": 29,
   "id": "d8907722-513b-4820-b46c-91620c01bfe1",
   "metadata": {},
   "outputs": [
    {
     "data": {
      "text/plain": [
       "['kohli', 'batsmen', 3, 13849, 58.59]"
      ]
     },
     "execution_count": 29,
     "metadata": {},
     "output_type": "execute_result"
    }
   ],
   "source": [
    "virat_kohli[-6:-1] "
   ]
  },
  {
   "cell_type": "code",
   "execution_count": 33,
   "id": "ac1d37b7-177c-461d-8bd3-bb752326b2f3",
   "metadata": {},
   "outputs": [],
   "source": [
    "virat_kohli.append('champion')"
   ]
  },
  {
   "cell_type": "code",
   "execution_count": 37,
   "id": "9e768594-61dd-43bc-af37-1ff2393dca23",
   "metadata": {},
   "outputs": [
    {
     "name": "stdout",
     "output_type": "stream",
     "text": [
      "['virat', 'kohli', 'batsmen', 3, 13849, 58.59, 'champion2011', 'champion', 'champion']\n"
     ]
    }
   ],
   "source": [
    "print(virat_kohli)"
   ]
  },
  {
   "cell_type": "code",
   "execution_count": 43,
   "id": "5edc2aed-2f95-4f10-b51c-028ed33b94e3",
   "metadata": {},
   "outputs": [],
   "source": [
    "virat_kohli.insert(6,'champion2013')"
   ]
  },
  {
   "cell_type": "code",
   "execution_count": null,
   "id": "91ea8e33-5228-4dc7-8dd9-419b3bdea41a",
   "metadata": {},
   "outputs": [],
   "source": []
  },
  {
   "cell_type": "code",
   "execution_count": 45,
   "id": "f3947d41-de1c-49b6-ad4b-911a8a4a47cf",
   "metadata": {},
   "outputs": [
    {
     "name": "stdout",
     "output_type": "stream",
     "text": [
      "['virat', 'kohli', 'batsmen', 3, 13849, 58.59, 'champion2013', 'champion2011', 'champion', 'champion']\n"
     ]
    }
   ],
   "source": [
    "print(virat_kohli)"
   ]
  },
  {
   "cell_type": "code",
   "execution_count": 47,
   "id": "b31f21f2-0240-4780-acce-2b02fe5290bf",
   "metadata": {},
   "outputs": [
    {
     "data": {
      "text/plain": [
       "'champion'"
      ]
     },
     "execution_count": 47,
     "metadata": {},
     "output_type": "execute_result"
    }
   ],
   "source": [
    "virat_kohli.pop(8)"
   ]
  },
  {
   "cell_type": "code",
   "execution_count": 49,
   "id": "24a34a01-7ed5-44bc-b60f-a3f2c56a8468",
   "metadata": {},
   "outputs": [
    {
     "data": {
      "text/plain": [
       "'champion'"
      ]
     },
     "execution_count": 49,
     "metadata": {},
     "output_type": "execute_result"
    }
   ],
   "source": [
    "virat_kohli.pop(8)"
   ]
  },
  {
   "cell_type": "code",
   "execution_count": 51,
   "id": "48aa3705-d609-4859-8f3c-bb9f406fadc4",
   "metadata": {},
   "outputs": [
    {
     "data": {
      "text/plain": [
       "['virat', 'kohli', 'batsmen', 3, 13849, 58.59, 'champion2013', 'champion2011']"
      ]
     },
     "execution_count": 51,
     "metadata": {},
     "output_type": "execute_result"
    }
   ],
   "source": [
    "virat_kohli"
   ]
  },
  {
   "cell_type": "code",
   "execution_count": 53,
   "id": "bd02c612-285e-453f-b83a-022ce60d5433",
   "metadata": {},
   "outputs": [],
   "source": [
    "virat_kohli.insert(7,'champion2024')"
   ]
  },
  {
   "cell_type": "code",
   "execution_count": 57,
   "id": "ffee0eb1-348b-4311-a093-7e9b6b9d06b1",
   "metadata": {},
   "outputs": [
    {
     "name": "stdout",
     "output_type": "stream",
     "text": [
      "['virat', 'kohli', 'batsmen', 3, 13849, 58.59, 'champion2013', 'champion2024', 'champion2011']\n"
     ]
    }
   ],
   "source": [
    "print(virat_kohli)"
   ]
  },
  {
   "cell_type": "code",
   "execution_count": 59,
   "id": "01b8e0c2-bb17-4635-80c1-17327fe39596",
   "metadata": {},
   "outputs": [],
   "source": [
    "virat_kohli.append('champion2008')"
   ]
  },
  {
   "cell_type": "code",
   "execution_count": 61,
   "id": "49f1ca3b-960b-49cf-b5c5-7aabd9253d39",
   "metadata": {},
   "outputs": [
    {
     "name": "stdout",
     "output_type": "stream",
     "text": [
      "['virat', 'kohli', 'batsmen', 3, 13849, 58.59, 'champion2013', 'champion2024', 'champion2011', 'champion2008']\n"
     ]
    }
   ],
   "source": [
    "print(virat_kohli)"
   ]
  },
  {
   "cell_type": "code",
   "execution_count": 63,
   "id": "107e4810-9db0-4af8-b86b-7cbad15367bc",
   "metadata": {},
   "outputs": [
    {
     "data": {
      "text/plain": [
       "3"
      ]
     },
     "execution_count": 63,
     "metadata": {},
     "output_type": "execute_result"
    }
   ],
   "source": [
    "virat_kohli.pop(3)"
   ]
  },
  {
   "cell_type": "code",
   "execution_count": 65,
   "id": "bb5943e2-fe21-43dd-bc49-4b29c90513be",
   "metadata": {},
   "outputs": [
    {
     "name": "stdout",
     "output_type": "stream",
     "text": [
      "['virat', 'kohli', 'batsmen', 13849, 58.59, 'champion2013', 'champion2024', 'champion2011', 'champion2008']\n"
     ]
    }
   ],
   "source": [
    "print(virat_kohli)"
   ]
  },
  {
   "cell_type": "code",
   "execution_count": 67,
   "id": "ef22a335-ca86-43af-8dcb-0128ceab8ccc",
   "metadata": {},
   "outputs": [
    {
     "data": {
      "text/plain": [
       "'champion2008'"
      ]
     },
     "execution_count": 67,
     "metadata": {},
     "output_type": "execute_result"
    }
   ],
   "source": [
    "virat_kohli.pop()"
   ]
  },
  {
   "cell_type": "code",
   "execution_count": 69,
   "id": "d873e58a-cb0b-48b5-bf75-7fe6eedb098d",
   "metadata": {},
   "outputs": [
    {
     "name": "stdout",
     "output_type": "stream",
     "text": [
      "['virat', 'kohli', 'batsmen', 13849, 58.59, 'champion2013', 'champion2024', 'champion2011']\n"
     ]
    }
   ],
   "source": [
    "print(virat_kohli)"
   ]
  },
  {
   "cell_type": "code",
   "execution_count": 71,
   "id": "a33e3d54-35c9-4ca9-839f-fa01ffaac86b",
   "metadata": {},
   "outputs": [],
   "source": [
    "del virat_kohli[0::2] "
   ]
  },
  {
   "cell_type": "code",
   "execution_count": 73,
   "id": "21702d5f-2f8e-41dc-8746-5a29f1f764a4",
   "metadata": {},
   "outputs": [
    {
     "name": "stdout",
     "output_type": "stream",
     "text": [
      "['kohli', 13849, 'champion2013', 'champion2011']\n"
     ]
    }
   ],
   "source": [
    "print(virat_kohli)"
   ]
  },
  {
   "cell_type": "code",
   "execution_count": 75,
   "id": "10bc0322-8717-403e-ad3e-3f07b4b14b50",
   "metadata": {},
   "outputs": [],
   "source": [
    "virat_kohli=virat_kohli+['virat','viratkohli@gmail.com',3,58.59]"
   ]
  },
  {
   "cell_type": "code",
   "execution_count": 77,
   "id": "101f2585-aa60-468d-8941-ad41cebb1b79",
   "metadata": {},
   "outputs": [
    {
     "name": "stdout",
     "output_type": "stream",
     "text": [
      "['kohli', 13849, 'champion2013', 'champion2011', 'virat', 'viratkohli@gmail.com', 3, 58.59]\n"
     ]
    }
   ],
   "source": [
    "print(virat_kohli)"
   ]
  },
  {
   "cell_type": "code",
   "execution_count": 79,
   "id": "80384d15-5d6f-4b8e-84ad-b227a04f0e32",
   "metadata": {},
   "outputs": [],
   "source": [
    "virat_kohli.insert(1,'virat')"
   ]
  },
  {
   "cell_type": "code",
   "execution_count": 81,
   "id": "a9aa6760-0db2-4371-8a26-104253a78fe9",
   "metadata": {},
   "outputs": [
    {
     "data": {
      "text/plain": [
       "['kohli',\n",
       " 'virat',\n",
       " 13849,\n",
       " 'champion2013',\n",
       " 'champion2011',\n",
       " 'virat',\n",
       " 'viratkohli@gmail.com',\n",
       " 3,\n",
       " 58.59]"
      ]
     },
     "execution_count": 81,
     "metadata": {},
     "output_type": "execute_result"
    }
   ],
   "source": [
    "virat_kohli"
   ]
  },
  {
   "cell_type": "code",
   "execution_count": 89,
   "id": "c0398d52-4aef-426b-84b8-07c4f92b5832",
   "metadata": {},
   "outputs": [
    {
     "data": {
      "text/plain": [
       "'virat'"
      ]
     },
     "execution_count": 89,
     "metadata": {},
     "output_type": "execute_result"
    }
   ],
   "source": [
    "virat_kohli.pop(5)"
   ]
  },
  {
   "cell_type": "code",
   "execution_count": 91,
   "id": "82160be3-fc84-40fb-b5ba-15b5d32898cd",
   "metadata": {},
   "outputs": [
    {
     "name": "stdout",
     "output_type": "stream",
     "text": [
      "['kohli', 'virat', 13849, 'champion2013', 'champion2011', 'viratkohli@gmail.com', 3, 58.59]\n"
     ]
    }
   ],
   "source": [
    "print(virat_kohli)"
   ]
  },
  {
   "cell_type": "code",
   "execution_count": 93,
   "id": "abf216a4-5d95-4e26-82d4-f53f55bd8974",
   "metadata": {},
   "outputs": [],
   "source": [
    "virat_kohli=virat_kohli+['delhi']"
   ]
  },
  {
   "cell_type": "code",
   "execution_count": 95,
   "id": "a3a3f5c4-489f-4fe8-8df6-39aeb58fa185",
   "metadata": {},
   "outputs": [
    {
     "name": "stdout",
     "output_type": "stream",
     "text": [
      "['kohli', 'virat', 13849, 'champion2013', 'champion2011', 'viratkohli@gmail.com', 3, 58.59, 'delhi']\n"
     ]
    }
   ],
   "source": [
    "print(virat_kohli)"
   ]
  },
  {
   "cell_type": "code",
   "execution_count": null,
   "id": "2cc0493e-303f-4c79-98ac-d419ee0635c1",
   "metadata": {},
   "outputs": [],
   "source": [
    "# extend"
   ]
  },
  {
   "cell_type": "code",
   "execution_count": 8,
   "id": "5201147f-2fbb-4c00-89c3-63e2bb962847",
   "metadata": {},
   "outputs": [],
   "source": [
    "list1=[1,2,3,4,5,6]\n",
    "list2=[7,8,9,10]\n",
    "list1.extend(list2)"
   ]
  },
  {
   "cell_type": "code",
   "execution_count": 10,
   "id": "287a1858-55bf-4886-b4d3-572da018ad27",
   "metadata": {},
   "outputs": [
    {
     "name": "stdout",
     "output_type": "stream",
     "text": [
      "[1, 2, 3, 4, 5, 6, 7, 8, 9, 10]\n"
     ]
    }
   ],
   "source": [
    "print(list1)"
   ]
  },
  {
   "cell_type": "code",
   "execution_count": 16,
   "id": "10b9396c-39c4-49d4-9b87-bec529b3ac61",
   "metadata": {},
   "outputs": [
    {
     "ename": "NameError",
     "evalue": "name 'virat_kohli' is not defined",
     "output_type": "error",
     "traceback": [
      "\u001b[1;31m---------------------------------------------------------------------------\u001b[0m",
      "\u001b[1;31mNameError\u001b[0m                                 Traceback (most recent call last)",
      "Cell \u001b[1;32mIn[16], line 1\u001b[0m\n\u001b[1;32m----> 1\u001b[0m virat_kohli\n",
      "\u001b[1;31mNameError\u001b[0m: name 'virat_kohli' is not defined"
     ]
    }
   ],
   "source": [
    "virat_kohli"
   ]
  },
  {
   "cell_type": "code",
   "execution_count": null,
   "id": "00a948a8-a56f-4896-bbfa-6b7725a0bcbf",
   "metadata": {},
   "outputs": [],
   "source": []
  }
 ],
 "metadata": {
  "kernelspec": {
   "display_name": "Python 3 (ipykernel)",
   "language": "python",
   "name": "python3"
  },
  "language_info": {
   "codemirror_mode": {
    "name": "ipython",
    "version": 3
   },
   "file_extension": ".py",
   "mimetype": "text/x-python",
   "name": "python",
   "nbconvert_exporter": "python",
   "pygments_lexer": "ipython3",
   "version": "3.12.4"
  }
 },
 "nbformat": 4,
 "nbformat_minor": 5
}
